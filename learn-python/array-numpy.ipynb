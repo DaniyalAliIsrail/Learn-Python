{
 "cells": [
  {
   "cell_type": "code",
   "execution_count": null,
   "metadata": {},
   "outputs": [],
   "source": [
    "# What is an Array?\n",
    "# An array is a special variable, which can hold more than one value at a time.\n",
    "\n",
    "import numpy as np\n",
    "arr =np.array([1,2,3,4,5])\n",
    "# access the value of 2\n",
    "print(arr[1])\n",
    "# Use the len() method to return the length of an array (the number of elements in an array).\n",
    "# Note: The length of an array is always one more than the highest array index\n",
    "print(len(arr))\n",
    "# The NumPy array object has a property called dtype that returns the data type of the array:\n",
    "print(type(arr.dtype))\n",
    "\n",
    "# Looping Array Elements\n",
    "# You can use the for in loop to loop through all the elements of an array\n",
    "for x in arr:\n",
    "    print(x)"
   ]
  }
 ],
 "metadata": {
  "kernelspec": {
   "display_name": "Python 3",
   "language": "python",
   "name": "python3"
  },
  "language_info": {
   "name": "python",
   "version": "3.12.2"
  }
 },
 "nbformat": 4,
 "nbformat_minor": 2
}
